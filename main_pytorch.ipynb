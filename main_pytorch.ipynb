{
 "cells": [
  {
   "cell_type": "markdown",
   "metadata": {},
   "source": [
    "# Image classification MNIST using pytorch"
   ]
  },
  {
   "cell_type": "code",
   "execution_count": 1,
   "metadata": {},
   "outputs": [
    {
     "name": "stdout",
     "output_type": "stream",
     "text": [
      "1.7.1\n"
     ]
    }
   ],
   "source": [
    "import torch\n",
    "print(torch.__version__)"
   ]
  },
  {
   "cell_type": "code",
   "execution_count": 2,
   "metadata": {},
   "outputs": [
    {
     "name": "stdout",
     "output_type": "stream",
     "text": [
      "Using cuda:0 device\n"
     ]
    }
   ],
   "source": [
    "# both following 'device' will work\n",
    "#device = \"cuda\" if torch.cuda.is_available() else \"cpu\"\n",
    "device = torch.device(\"cuda:0\" if torch.cuda.is_available() else \"cpu\")\n",
    "\n",
    "print(\"Using {} device\".format(device))"
   ]
  },
  {
   "cell_type": "markdown",
   "metadata": {},
   "source": [
    "## load data\n",
    "Note that many old online/official examples have problems! \n",
    "\n",
    "There has been a lot of trouble (e.g., 503 error) with the MNIST hosted on http://yann.lecun.com/exdb/mnist/ (by default in torchvision.datasets.MNIST). Therefore pytorch got permission and hosting it now on amazon AWS. \n",
    "\n",
    "For window users, it is much easier just go to www.di.ens.fr/~lelarge/MNIST.tar.gz, download it, and unzip the file. Then you will have MNIST folder, which you put into the root directory for dataloader, e.g., ./data/"
   ]
  },
  {
   "cell_type": "code",
   "execution_count": 3,
   "metadata": {},
   "outputs": [],
   "source": [
    "import torchvision\n",
    "import torchvision.transforms as transforms\n",
    "\n",
    "# for DataLoaders \n",
    "batch_size_train = 64\n",
    "batch_size_test = 1000\n",
    "\n",
    "# The values 0.1307 and 0.3081 used for the Normalize() transformation below are the \n",
    "# global mean and standard deviation of the MNIST dataset, we'll take them as a given here.\n",
    "# Normalize(mean, std, inplace=False), i.e., output = (input - mean ) / std \n",
    "transform = transforms.Compose(\n",
    "    [transforms.ToTensor(),\n",
    "     transforms.Normalize((0.1307,), (0.3081,))]) \n",
    "\n",
    "trainset = torchvision.datasets.MNIST(root='./data', train=True,\n",
    "                                        download=False, transform=transform)\n",
    "train_loader = torch.utils.data.DataLoader(trainset, batch_size=batch_size_train,\n",
    "                                          shuffle=True, num_workers=2)\n",
    "\n",
    "testset = torchvision.datasets.MNIST(root='./data', train=False,\n",
    "                                        download=False, transform=transform)\n",
    "test_loader = torch.utils.data.DataLoader(testset, batch_size=batch_size_test,\n",
    "                                          shuffle=True, num_workers=2)"
   ]
  },
  {
   "cell_type": "code",
   "execution_count": 4,
   "metadata": {
    "scrolled": true
   },
   "outputs": [
    {
     "name": "stdout",
     "output_type": "stream",
     "text": [
      "<class 'torchvision.datasets.mnist.MNIST'>\n",
      "<class 'torch.utils.data.dataloader.DataLoader'>\n"
     ]
    }
   ],
   "source": [
    "print(type(testset))\n",
    "print(type(test_loader))"
   ]
  },
  {
   "cell_type": "markdown",
   "metadata": {},
   "source": [
    "Now let's take a look at some examples. We'll use the test_loader for this."
   ]
  },
  {
   "cell_type": "code",
   "execution_count": 38,
   "metadata": {},
   "outputs": [],
   "source": [
    "# enumerate wraps any iterator (or iterable conditioner) with a lazy generator\n",
    "examples = enumerate(test_loader)"
   ]
  },
  {
   "cell_type": "code",
   "execution_count": 42,
   "metadata": {},
   "outputs": [
    {
     "name": "stdout",
     "output_type": "stream",
     "text": [
      "3 torch.Size([1000, 1, 28, 28])\n",
      "3 torch.Size([1000])\n"
     ]
    }
   ],
   "source": [
    "batch_idx, (example_data, example_targets) = next(examples)\n",
    "print(batch_idx, example_data.shape)\n",
    "print(batch_idx, example_targets.shape)"
   ]
  },
  {
   "cell_type": "code",
   "execution_count": 7,
   "metadata": {},
   "outputs": [
    {
     "name": "stdout",
     "output_type": "stream",
     "text": [
      "torch.Size([28, 28])\n",
      "torch.Size([28, 28])\n",
      "torch.Size([28, 28])\n",
      "torch.Size([28, 28])\n",
      "torch.Size([28, 28])\n",
      "torch.Size([28, 28])\n"
     ]
    },
    {
     "data": {
      "image/png": "[encoded data removed]",
      "text/plain": [
       "<Figure size 432x288 with 6 Axes>"
      ]
     },
     "metadata": {
      "needs_background": "light"
     },
     "output_type": "display_data"
    }
   ],
   "source": [
    "import matplotlib.pyplot as plt\n",
    "\n",
    "fig = plt.figure()\n",
    "for i in range(6):\n",
    "  plt.subplot(2,3,i+1)\n",
    "  plt.tight_layout()\n",
    "  tmp = example_data[i][0]\n",
    "  print(tmp.shape)\n",
    "  plt.imshow(tmp, cmap='gray', interpolation='none')\n",
    "  plt.title(\"Ground Truth: {}\".format(example_targets[i]))\n",
    "#   plt.xticks([])\n",
    "#   plt.yticks([])"
   ]
  },
  {
   "cell_type": "markdown",
   "metadata": {},
   "source": [
    "## Building the Network"
   ]
  },
  {
   "cell_type": "code",
   "execution_count": 8,
   "metadata": {},
   "outputs": [],
   "source": [
    "import torch.nn as nn\n",
    "import torch.nn.functional as F\n",
    "import torch.optim as optim"
   ]
  },
  {
   "cell_type": "markdown",
   "metadata": {},
   "source": [
    "model by subclassing (recommended by pytorch)"
   ]
  },
  {
   "cell_type": "code",
   "execution_count": 9,
   "metadata": {},
   "outputs": [],
   "source": [
    "# LeNet5 (with kenel=5) for the reduced-size MNIST (28*28) from original size (32*32) in the paper\n",
    "class Net(nn.Module):\n",
    "    def __init__(self):\n",
    "        super(Net, self).__init__()\n",
    "        # 1 input image channel, 6 output channels, 5x5 convolution kernel\n",
    "        self.conv1 = nn.Conv2d(1, 6, 5)\n",
    "        self.conv2 = nn.Conv2d(6, 16, 5) # 16 output channels, 5x5 kernel\n",
    "        self.fc1 = nn.Linear(16 * 4 * 4, 120) #4*4 from image dimension\n",
    "        self.fc2 = nn.Linear(120, 84)\n",
    "        self.fc3 = nn.Linear(84, 10)\n",
    "\n",
    "    def forward(self, x):\n",
    "        # Max pooling over a (2, 2) window\n",
    "        x = F.max_pool2d(F.relu(self.conv1(x)), (2, 2))\n",
    "        # If the size is a square you can specify a single number\n",
    "        x = F.max_pool2d(F.relu(self.conv2(x)), 2)\n",
    "        \n",
    "#         x = x.view(-1, self.num_flat_features(x)) # flaten starting from dimension 1 \n",
    "        x = torch.flatten(x, 1) # same with above, no extra function needed\n",
    "    \n",
    "        x = F.relu(self.fc1(x))\n",
    "        x = F.relu(self.fc2(x))\n",
    "        x = self.fc3(x)\n",
    "        x = F.log_softmax(x, dim=1) # added this line because using F.nll_loss to optimize\n",
    "        return x\n",
    "\n",
    "    def num_flat_features(self, x):\n",
    "        size = x.size()[1:] #all dimensions except the batch dimension\n",
    "        num_features = 1\n",
    "        for s in size:\n",
    "            num_features *= s\n",
    "        return num_features\n",
    "\n",
    "\n",
    "# A larger network than LeNet5, one example of pytorch, \n",
    "# class Net(nn.Module):\n",
    "#     def __init__(self):\n",
    "#         super(Net, self).__init__()\n",
    "#         self.conv1 = nn.Conv2d(1, 32, 3) #(in_channels, out_channels, kernel_size, stride=1)\n",
    "#         self.conv2 = nn.Conv2d(32, 64, 3)\n",
    "#         self.dropout1 = nn.Dropout(0.25)\n",
    "#         self.dropout2 = nn.Dropout(0.5)\n",
    "#         self.fc1 = nn.Linear(9216, 128)\n",
    "#         self.fc2 = nn.Linear(128, 10)\n",
    "\n",
    "#     def forward(self, x):\n",
    "#         x = F.relu(self.conv1(x))\n",
    "#         x = F.relu(self.conv2(x))\n",
    "#         x = F.max_pool2d(x, 2) # If the size is a square you can specify a single number\n",
    "#         x = self.dropout1(x)\n",
    "#         x = torch.flatten(x, 1)\n",
    "#         x = self.fc1(x)\n",
    "#         x = F.relu(x)\n",
    "#         x = self.dropout2(x)\n",
    "#         x = self.fc2(x)\n",
    "#         output = F.log_softmax(x, dim=1)\n",
    "#         return output"
   ]
  },
  {
   "cell_type": "code",
   "execution_count": 10,
   "metadata": {},
   "outputs": [
    {
     "name": "stdout",
     "output_type": "stream",
     "text": [
      "Net(\n",
      "  (conv1): Conv2d(1, 6, kernel_size=(5, 5), stride=(1, 1))\n",
      "  (conv2): Conv2d(6, 16, kernel_size=(5, 5), stride=(1, 1))\n",
      "  (fc1): Linear(in_features=256, out_features=120, bias=True)\n",
      "  (fc2): Linear(in_features=120, out_features=84, bias=True)\n",
      "  (fc3): Linear(in_features=84, out_features=10, bias=True)\n",
      ")\n"
     ]
    }
   ],
   "source": [
    "network = Net().to(device)\n",
    "print(network)"
   ]
  },
  {
   "cell_type": "markdown",
   "metadata": {},
   "source": [
    "## 'compile' the model "
   ]
  },
  {
   "cell_type": "code",
   "execution_count": 11,
   "metadata": {},
   "outputs": [],
   "source": [
    "# optimizer = optim.SGD(network.parameters(), lr= 0.01,momentum= 0.5)\n",
    "optimizer = optim.Adam(network.parameters(), lr=0.0001)\n",
    "\n",
    "#The negative log likelihood loss. It is useful to train a classification problem with C classes.\n",
    "criterion = F.nll_loss \n"
   ]
  },
  {
   "cell_type": "code",
   "execution_count": 12,
   "metadata": {},
   "outputs": [],
   "source": [
    "n_epochs = 10\n",
    "# store return values outside functions below:\n",
    "train_losses = []\n",
    "train_counter = []\n",
    "test_losses = []\n",
    "test_counter = [i*len(train_loader.dataset) for i in range(n_epochs + 1)]\n",
    "test_acc = []"
   ]
  },
  {
   "cell_type": "code",
   "execution_count": 13,
   "metadata": {},
   "outputs": [],
   "source": [
    "def train(epoch):\n",
    "    network.train() # switch to train mode\n",
    "    \n",
    "    for batch_idx, (data, target) in enumerate(train_loader):\n",
    "        data, target = data.to(device), target.to(device) # to GPU\n",
    "        # zero the parameter gradients\n",
    "        optimizer.zero_grad()\n",
    "        # forward + backward + optimize\n",
    "        output = network(data)\n",
    "        loss = criterion(output, target)\n",
    "        loss.backward()\n",
    "        optimizer.step()\n",
    "        \n",
    "        # print statistics\n",
    "        log_interval = 100\n",
    "        if batch_idx % log_interval == 0:\n",
    "          print('Train Epoch: {} [{}/{} ({:.0f}%)]\\tLoss: {:.6f}'.format(\n",
    "            epoch, batch_idx * len(data), len(train_loader.dataset),\n",
    "            100. * batch_idx / len(train_loader), loss.item()))\n",
    "        \n",
    "          train_losses.append(loss.item())\n",
    "            \n",
    "          train_counter.append(\n",
    "            (batch_idx*64) + ((epoch-1)*len(train_loader.dataset)))\n",
    "        \n",
    "          torch.save(network.state_dict(), './results/model.pth')\n",
    "          torch.save(optimizer.state_dict(), './results/optimizer.pth')"
   ]
  },
  {
   "cell_type": "code",
   "execution_count": 14,
   "metadata": {},
   "outputs": [],
   "source": [
    "def test():\n",
    "    network.eval() # switch to evaluate mode\n",
    "    \n",
    "    test_loss = 0; correct = 0; acc = 0\n",
    "    with torch.no_grad():\n",
    "        for data, target in test_loader:\n",
    "            data, target = data.to(device), target.to(device) # to GPU\n",
    "            \n",
    "            output = network(data)\n",
    "            test_loss += criterion(output, target, size_average=False).item()\n",
    "            pred = output.data.max(1, keepdim=True)[1]\n",
    "            correct += pred.eq(target.data.view_as(pred)).sum()\n",
    "        \n",
    "    test_loss /= len(test_loader.dataset)\n",
    "    acc = correct / len(test_loader.dataset)\n",
    "    \n",
    "    test_losses.append(test_loss)\n",
    "    test_acc.append(acc)\n",
    "    \n",
    "    print('\\nTest set: Avg. loss: {:.4f}, Accuracy: {}/{} ({:.1f}%)\\n'.format(\n",
    "    test_loss, correct, len(test_loader.dataset), 100. * acc))"
   ]
  },
  {
   "cell_type": "markdown",
   "metadata": {},
   "source": [
    "## train the model "
   ]
  },
  {
   "cell_type": "code",
   "execution_count": 15,
   "metadata": {},
   "outputs": [
    {
     "name": "stderr",
     "output_type": "stream",
     "text": [
      "C:\\Users\\lwang\\anaconda3\\envs\\py38_torch\\lib\\site-packages\\torch\\nn\\_reduction.py:44: UserWarning: size_average and reduce args will be deprecated, please use reduction='sum' instead.\n",
      "  warnings.warn(warning.format(ret))\n"
     ]
    },
    {
     "name": "stdout",
     "output_type": "stream",
     "text": [
      "\n",
      "Test set: Avg. loss: 2.3043, Accuracy: 976/10000 (9.8%)\n",
      "\n",
      "Train Epoch: 1 [0/60000 (0%)]\tLoss: 2.310900\n",
      "Train Epoch: 1 [6400/60000 (11%)]\tLoss: 2.025811\n",
      "Train Epoch: 1 [12800/60000 (21%)]\tLoss: 0.982934\n",
      "Train Epoch: 1 [19200/60000 (32%)]\tLoss: 0.626201\n",
      "Train Epoch: 1 [25600/60000 (43%)]\tLoss: 0.492371\n",
      "Train Epoch: 1 [32000/60000 (53%)]\tLoss: 0.384248\n",
      "Train Epoch: 1 [38400/60000 (64%)]\tLoss: 0.334168\n",
      "Train Epoch: 1 [44800/60000 (75%)]\tLoss: 0.412497\n",
      "Train Epoch: 1 [51200/60000 (85%)]\tLoss: 0.490086\n",
      "Train Epoch: 1 [57600/60000 (96%)]\tLoss: 0.246027\n",
      "\n",
      "Test set: Avg. loss: 0.3039, Accuracy: 9114/10000 (91.1%)\n",
      "\n",
      "Train Epoch: 2 [0/60000 (0%)]\tLoss: 0.344827\n",
      "Train Epoch: 2 [6400/60000 (11%)]\tLoss: 0.257905\n",
      "Train Epoch: 2 [12800/60000 (21%)]\tLoss: 0.231575\n",
      "Train Epoch: 2 [19200/60000 (32%)]\tLoss: 0.307075\n",
      "Train Epoch: 2 [25600/60000 (43%)]\tLoss: 0.472823\n",
      "Train Epoch: 2 [32000/60000 (53%)]\tLoss: 0.291809\n",
      "Train Epoch: 2 [38400/60000 (64%)]\tLoss: 0.104050\n",
      "Train Epoch: 2 [44800/60000 (75%)]\tLoss: 0.176483\n",
      "Train Epoch: 2 [51200/60000 (85%)]\tLoss: 0.317015\n",
      "Train Epoch: 2 [57600/60000 (96%)]\tLoss: 0.157697\n",
      "\n",
      "Test set: Avg. loss: 0.2032, Accuracy: 9381/10000 (93.8%)\n",
      "\n",
      "Train Epoch: 3 [0/60000 (0%)]\tLoss: 0.342004\n",
      "Train Epoch: 3 [6400/60000 (11%)]\tLoss: 0.124525\n",
      "Train Epoch: 3 [12800/60000 (21%)]\tLoss: 0.260733\n",
      "Train Epoch: 3 [19200/60000 (32%)]\tLoss: 0.224037\n",
      "Train Epoch: 3 [25600/60000 (43%)]\tLoss: 0.269507\n",
      "Train Epoch: 3 [32000/60000 (53%)]\tLoss: 0.127901\n",
      "Train Epoch: 3 [38400/60000 (64%)]\tLoss: 0.174439\n",
      "Train Epoch: 3 [44800/60000 (75%)]\tLoss: 0.142823\n",
      "Train Epoch: 3 [51200/60000 (85%)]\tLoss: 0.114858\n",
      "Train Epoch: 3 [57600/60000 (96%)]\tLoss: 0.071937\n",
      "\n",
      "Test set: Avg. loss: 0.1507, Accuracy: 9537/10000 (95.4%)\n",
      "\n",
      "Train Epoch: 4 [0/60000 (0%)]\tLoss: 0.229578\n",
      "Train Epoch: 4 [6400/60000 (11%)]\tLoss: 0.103497\n",
      "Train Epoch: 4 [12800/60000 (21%)]\tLoss: 0.090730\n",
      "Train Epoch: 4 [19200/60000 (32%)]\tLoss: 0.158943\n",
      "Train Epoch: 4 [25600/60000 (43%)]\tLoss: 0.103418\n",
      "Train Epoch: 4 [32000/60000 (53%)]\tLoss: 0.144621\n",
      "Train Epoch: 4 [38400/60000 (64%)]\tLoss: 0.076530\n",
      "Train Epoch: 4 [44800/60000 (75%)]\tLoss: 0.055040\n",
      "Train Epoch: 4 [51200/60000 (85%)]\tLoss: 0.176110\n",
      "Train Epoch: 4 [57600/60000 (96%)]\tLoss: 0.119301\n",
      "\n",
      "Test set: Avg. loss: 0.1146, Accuracy: 9661/10000 (96.6%)\n",
      "\n",
      "Train Epoch: 5 [0/60000 (0%)]\tLoss: 0.071687\n",
      "Train Epoch: 5 [6400/60000 (11%)]\tLoss: 0.064530\n",
      "Train Epoch: 5 [12800/60000 (21%)]\tLoss: 0.097285\n",
      "Train Epoch: 5 [19200/60000 (32%)]\tLoss: 0.066921\n",
      "Train Epoch: 5 [25600/60000 (43%)]\tLoss: 0.153057\n",
      "Train Epoch: 5 [32000/60000 (53%)]\tLoss: 0.175893\n",
      "Train Epoch: 5 [38400/60000 (64%)]\tLoss: 0.122886\n",
      "Train Epoch: 5 [44800/60000 (75%)]\tLoss: 0.111754\n",
      "Train Epoch: 5 [51200/60000 (85%)]\tLoss: 0.134442\n",
      "Train Epoch: 5 [57600/60000 (96%)]\tLoss: 0.051031\n",
      "\n",
      "Test set: Avg. loss: 0.0972, Accuracy: 9700/10000 (97.0%)\n",
      "\n",
      "Train Epoch: 6 [0/60000 (0%)]\tLoss: 0.033684\n",
      "Train Epoch: 6 [6400/60000 (11%)]\tLoss: 0.162879\n",
      "Train Epoch: 6 [12800/60000 (21%)]\tLoss: 0.084322\n",
      "Train Epoch: 6 [19200/60000 (32%)]\tLoss: 0.190755\n",
      "Train Epoch: 6 [25600/60000 (43%)]\tLoss: 0.224680\n",
      "Train Epoch: 6 [32000/60000 (53%)]\tLoss: 0.076834\n",
      "Train Epoch: 6 [38400/60000 (64%)]\tLoss: 0.081735\n",
      "Train Epoch: 6 [44800/60000 (75%)]\tLoss: 0.083940\n",
      "Train Epoch: 6 [51200/60000 (85%)]\tLoss: 0.088112\n",
      "Train Epoch: 6 [57600/60000 (96%)]\tLoss: 0.078220\n",
      "\n",
      "Test set: Avg. loss: 0.0808, Accuracy: 9749/10000 (97.5%)\n",
      "\n",
      "Train Epoch: 7 [0/60000 (0%)]\tLoss: 0.022668\n",
      "Train Epoch: 7 [6400/60000 (11%)]\tLoss: 0.070354\n",
      "Train Epoch: 7 [12800/60000 (21%)]\tLoss: 0.073334\n",
      "Train Epoch: 7 [19200/60000 (32%)]\tLoss: 0.027241\n",
      "Train Epoch: 7 [25600/60000 (43%)]\tLoss: 0.092414\n",
      "Train Epoch: 7 [32000/60000 (53%)]\tLoss: 0.215745\n",
      "Train Epoch: 7 [38400/60000 (64%)]\tLoss: 0.038761\n",
      "Train Epoch: 7 [44800/60000 (75%)]\tLoss: 0.156597\n",
      "Train Epoch: 7 [51200/60000 (85%)]\tLoss: 0.024852\n",
      "Train Epoch: 7 [57600/60000 (96%)]\tLoss: 0.022667\n",
      "\n",
      "Test set: Avg. loss: 0.0780, Accuracy: 9737/10000 (97.4%)\n",
      "\n",
      "Train Epoch: 8 [0/60000 (0%)]\tLoss: 0.251697\n",
      "Train Epoch: 8 [6400/60000 (11%)]\tLoss: 0.240188\n",
      "Train Epoch: 8 [12800/60000 (21%)]\tLoss: 0.033988\n",
      "Train Epoch: 8 [19200/60000 (32%)]\tLoss: 0.115805\n",
      "Train Epoch: 8 [25600/60000 (43%)]\tLoss: 0.140473\n",
      "Train Epoch: 8 [32000/60000 (53%)]\tLoss: 0.104820\n",
      "Train Epoch: 8 [38400/60000 (64%)]\tLoss: 0.102256\n",
      "Train Epoch: 8 [44800/60000 (75%)]\tLoss: 0.066718\n",
      "Train Epoch: 8 [51200/60000 (85%)]\tLoss: 0.143485\n",
      "Train Epoch: 8 [57600/60000 (96%)]\tLoss: 0.343036\n",
      "\n",
      "Test set: Avg. loss: 0.0676, Accuracy: 9793/10000 (97.9%)\n",
      "\n",
      "Train Epoch: 9 [0/60000 (0%)]\tLoss: 0.063521\n",
      "Train Epoch: 9 [6400/60000 (11%)]\tLoss: 0.048776\n",
      "Train Epoch: 9 [12800/60000 (21%)]\tLoss: 0.038592\n",
      "Train Epoch: 9 [19200/60000 (32%)]\tLoss: 0.053635\n",
      "Train Epoch: 9 [25600/60000 (43%)]\tLoss: 0.030517\n",
      "Train Epoch: 9 [32000/60000 (53%)]\tLoss: 0.100783\n",
      "Train Epoch: 9 [38400/60000 (64%)]\tLoss: 0.024750\n",
      "Train Epoch: 9 [44800/60000 (75%)]\tLoss: 0.121782\n",
      "Train Epoch: 9 [51200/60000 (85%)]\tLoss: 0.021499\n",
      "Train Epoch: 9 [57600/60000 (96%)]\tLoss: 0.039981\n",
      "\n",
      "Test set: Avg. loss: 0.0629, Accuracy: 9798/10000 (98.0%)\n",
      "\n",
      "Train Epoch: 10 [0/60000 (0%)]\tLoss: 0.086845\n",
      "Train Epoch: 10 [6400/60000 (11%)]\tLoss: 0.063883\n",
      "Train Epoch: 10 [12800/60000 (21%)]\tLoss: 0.084246\n",
      "Train Epoch: 10 [19200/60000 (32%)]\tLoss: 0.161490\n",
      "Train Epoch: 10 [25600/60000 (43%)]\tLoss: 0.128945\n",
      "Train Epoch: 10 [32000/60000 (53%)]\tLoss: 0.022776\n",
      "Train Epoch: 10 [38400/60000 (64%)]\tLoss: 0.022209\n",
      "Train Epoch: 10 [44800/60000 (75%)]\tLoss: 0.084772\n",
      "Train Epoch: 10 [51200/60000 (85%)]\tLoss: 0.046835\n",
      "Train Epoch: 10 [57600/60000 (96%)]\tLoss: 0.104609\n",
      "\n",
      "Test set: Avg. loss: 0.0636, Accuracy: 9792/10000 (97.9%)\n",
      "\n",
      "elapsed_time: 91.89380526542664\n"
     ]
    }
   ],
   "source": [
    "import time\n",
    "start_time = time.time()\n",
    "\n",
    "test()\n",
    "for epoch in range(1, n_epochs + 1):\n",
    "    train(epoch)\n",
    "    test()\n",
    "    \n",
    "print('elapsed_time:',  time.time() - start_time) # 50s for 3 epochs on CPU"
   ]
  },
  {
   "cell_type": "markdown",
   "metadata": {},
   "source": [
    "## Evaluate"
   ]
  },
  {
   "cell_type": "code",
   "execution_count": 16,
   "metadata": {},
   "outputs": [
    {
     "data": {
      "text/plain": [
       "Text(0, 0.5, 'negative log likelihood loss')"
      ]
     },
     "execution_count": 16,
     "metadata": {},
     "output_type": "execute_result"
    },
    {
     "data": {
      "image/png": "[encoded data removed]",
      "text/plain": [
       "<Figure size 432x288 with 1 Axes>"
      ]
     },
     "metadata": {
      "needs_background": "light"
     },
     "output_type": "display_data"
    }
   ],
   "source": [
    "fig = plt.figure()\n",
    "plt.plot(train_counter, train_losses, color='blue')\n",
    "plt.scatter(test_counter, test_losses, color='red') \n",
    "plt.grid()\n",
    "plt.legend(['Train Loss', 'Test Loss'], loc='upper right')\n",
    "plt.xlabel('number of training examples seen')\n",
    "plt.ylabel('negative log likelihood loss')\n"
   ]
  },
  {
   "cell_type": "code",
   "execution_count": 17,
   "metadata": {},
   "outputs": [
    {
     "name": "stdout",
     "output_type": "stream",
     "text": [
      "[tensor(0.9024, device='cuda:0') tensor(0.0886, device='cuda:0')\n",
      " tensor(0.0619, device='cuda:0') tensor(0.0463, device='cuda:0')\n",
      " tensor(0.0339, device='cuda:0') tensor(0.0300, device='cuda:0')\n",
      " tensor(0.0251, device='cuda:0') tensor(0.0263, device='cuda:0')\n",
      " tensor(0.0207, device='cuda:0') tensor(0.0202, device='cuda:0')\n",
      " tensor(0.0208, device='cuda:0')]\n"
     ]
    },
    {
     "data": {
      "text/plain": [
       "Text(0, 0.5, 'Test error rate')"
      ]
     },
     "execution_count": 17,
     "metadata": {},
     "output_type": "execute_result"
    },
    {
     "data": {
      "image/png": "[encoded data removed]",
      "text/plain": [
       "<Figure size 432x288 with 1 Axes>"
      ]
     },
     "metadata": {
      "needs_background": "light"
     },
     "output_type": "display_data"
    }
   ],
   "source": [
    "import numpy as np\n",
    "error = 1-np.array(test_acc)\n",
    "print(error)\n",
    "\n",
    "fig = plt.figure()\n",
    "plt.plot(error, 'o-', markersize=10, label='error rate') #linewidth=1 \n",
    "plt.grid()\n",
    "plt.xlabel('epoches')\n",
    "plt.ylabel('Test error rate')"
   ]
  },
  {
   "cell_type": "code",
   "execution_count": 18,
   "metadata": {},
   "outputs": [],
   "source": [
    "def view_classify(img, ps):\n",
    "    # Function for viewing an image and it's predicted classes.\n",
    "    ps = ps.cpu().data.numpy().squeeze()\n",
    "\n",
    "    fig, (ax1, ax2) = plt.subplots(figsize=(6,9), ncols=2)\n",
    "    ax1.imshow(img.resize_(1, 28, 28).numpy().squeeze())\n",
    "    ax1.axis('off')\n",
    "    ax2.barh(np.arange(10), ps)\n",
    "    ax2.set_aspect(0.1)\n",
    "    ax2.set_yticks(np.arange(10))\n",
    "    ax2.set_yticklabels(np.arange(10))\n",
    "    ax2.set_title('Class Probability')\n",
    "    ax2.set_xlim(0, 1.1)\n",
    "    plt.tight_layout() "
   ]
  },
  {
   "cell_type": "code",
   "execution_count": 49,
   "metadata": {},
   "outputs": [
    {
     "name": "stdout",
     "output_type": "stream",
     "text": [
      "iterator @ <torch.utils.data.dataloader._MultiProcessingDataLoaderIter object at 0x000001971FF912E0>\n",
      "False\n",
      "True\n",
      "torch.Size([1000, 1, 28, 28])\n",
      "torch.Size([1000])\n",
      "imag: torch.Size([1, 28, 28])\n",
      "imag: torch.Size([1, 1, 28, 28])\n"
     ]
    }
   ],
   "source": [
    "examples = iter(test_loader) # iter() makes an iterator \n",
    "print('iterator @', examples) \n",
    "print(iter(test_loader)==iter(test_loader)) # test_loader is not iterator (but iterable)\n",
    "print(iter(examples)==iter(examples)) # examples is iterator\n",
    "\n",
    "(images, labels) = next(examples)\n",
    "print(images.shape)\n",
    "print(labels.shape)\n",
    "\n",
    "#%% result on one test sample\n",
    "img = images[9]\n",
    "print('imag:', img.shape)\n",
    "img = img.unsqueeze(0) # add one dimension \n",
    "print('imag:', img.shape)\n"
   ]
  },
  {
   "cell_type": "code",
   "execution_count": 50,
   "metadata": {},
   "outputs": [
    {
     "name": "stdout",
     "output_type": "stream",
     "text": [
      "Predicted Digit = 5\n"
     ]
    },
    {
     "data": {
      "image/png": "[encoded data removed]",
      "text/plain": [
       "<Figure size 432x648 with 2 Axes>"
      ]
     },
     "metadata": {
      "needs_background": "light"
     },
     "output_type": "display_data"
    }
   ],
   "source": [
    "# Turn off gradients to speed up\n",
    "with torch.no_grad():\n",
    "    logps = network(img.to(device)) # GPU\n",
    "\n",
    "# Output of the network are log-probabilities, need to take exponential for probabilities\n",
    "ps = torch.exp(logps)\n",
    "probab = list(ps.cpu().numpy()[0])\n",
    "print(\"Predicted Digit =\", probab.index(max(probab)))\n",
    "\n",
    "view_classify(img.view(1, 28, 28), ps) \n"
   ]
  },
  {
   "cell_type": "code",
   "execution_count": null,
   "metadata": {},
   "outputs": [],
   "source": []
  }
 ],
 "metadata": {
  "kernelspec": {
   "display_name": "Python 3",
   "language": "python",
   "name": "python3"
  },
  "language_info": {
   "codemirror_mode": {
    "name": "ipython",
    "version": 3
   },
   "file_extension": ".py",
   "mimetype": "text/x-python",
   "name": "python",
   "nbconvert_exporter": "python",
   "pygments_lexer": "ipython3",
   "version": "3.8.5"
  }
 },
 "nbformat": 4,
 "nbformat_minor": 4
}
