{
 "cells": [
  {
   "cell_type": "markdown",
   "metadata": {},
   "source": [
    "# Image classification MNIST using pytorch"
   ]
  },
  {
   "cell_type": "code",
   "execution_count": 1,
   "metadata": {},
   "outputs": [
    {
     "name": "stdout",
     "output_type": "stream",
     "text": [
      "1.7.1\n"
     ]
    }
   ],
   "source": [
    "import torch\n",
    "print(torch.__version__)"
   ]
  },
  {
   "cell_type": "code",
   "execution_count": 2,
   "metadata": {},
   "outputs": [
    {
     "name": "stdout",
     "output_type": "stream",
     "text": [
      "Using cuda:0 device\n"
     ]
    }
   ],
   "source": [
    "# both following 'device' will work\n",
    "#device = \"cuda\" if torch.cuda.is_available() else \"cpu\"\n",
    "device = torch.device(\"cuda:0\" if torch.cuda.is_available() else \"cpu\")\n",
    "\n",
    "print(\"Using {} device\".format(device))"
   ]
  },
  {
   "cell_type": "markdown",
   "metadata": {},
   "source": [
    "## load data\n",
    "Note that many old online/official examples have problems! \n",
    "\n",
    "There has been a lot of trouble (e.g., 503 error) with the MNIST hosted on http://yann.lecun.com/exdb/mnist/ (by default in torchvision.datasets.MNIST). Therefore pytorch got permission and hosting it now on amazon AWS. \n",
    "\n",
    "For window users, it is much easier just go to www.di.ens.fr/~lelarge/MNIST.tar.gz, download it, and unzip the file. Then you will have MNIST folder, which you put into the root directory for dataloader, e.g., ./data/"
   ]
  },
  {
   "cell_type": "code",
   "execution_count": 3,
   "metadata": {},
   "outputs": [],
   "source": [
    "import torchvision\n",
    "import torchvision.transforms as transforms\n",
    "\n",
    "# for DataLoaders \n",
    "batch_size_train = 64\n",
    "batch_size_test = 1000\n",
    "\n",
    "# The values 0.1307 and 0.3081 used for the Normalize() transformation below are the \n",
    "# global mean and standard deviation of the MNIST dataset, we'll take them as a given here.\n",
    "# Normalize(mean, std, inplace=False), i.e., output = (input - mean ) / std \n",
    "transform = transforms.Compose(\n",
    "    [transforms.ToTensor(),\n",
    "     transforms.Normalize((0.1307,), (0.3081,))]) \n",
    "\n",
    "trainset = torchvision.datasets.MNIST(root='./data', train=True,\n",
    "                                        download=False, transform=transform)\n",
    "train_loader = torch.utils.data.DataLoader(trainset, batch_size=batch_size_train,\n",
    "                                          shuffle=True, num_workers=2)\n",
    "\n",
    "testset = torchvision.datasets.MNIST(root='./data', train=False,\n",
    "                                        download=False, transform=transform)\n",
    "test_loader = torch.utils.data.DataLoader(testset, batch_size=batch_size_test,\n",
    "                                          shuffle=True, num_workers=2)"
   ]
  },
  {
   "cell_type": "code",
   "execution_count": 4,
   "metadata": {},
   "outputs": [
    {
     "name": "stdout",
     "output_type": "stream",
     "text": [
      "<class 'torchvision.datasets.mnist.MNIST'>\n",
      "<class 'torch.utils.data.dataloader.DataLoader'>\n"
     ]
    }
   ],
   "source": [
    "print(type(testset))\n",
    "print(type(test_loader))"
   ]
  },
  {
   "cell_type": "markdown",
   "metadata": {},
   "source": [
    "Now let's take a look at some examples. We'll use the test_loader for this."
   ]
  },
  {
   "cell_type": "code",
   "execution_count": 5,
   "metadata": {},
   "outputs": [],
   "source": [
    "# enumerate wraps any iterator with a lazy generator\n",
    "examples = enumerate(test_loader)"
   ]
  },
  {
   "cell_type": "code",
   "execution_count": 6,
   "metadata": {},
   "outputs": [
    {
     "name": "stdout",
     "output_type": "stream",
     "text": [
      "0 torch.Size([1000, 1, 28, 28])\n",
      "0 torch.Size([1000])\n"
     ]
    }
   ],
   "source": [
    "batch_idx, (example_data, example_targets) = next(examples)\n",
    "print(batch_idx, example_data.shape)\n",
    "print(batch_idx, example_targets.shape)"
   ]
  },
  {
   "cell_type": "code",
   "execution_count": 7,
   "metadata": {},
   "outputs": [
    {
     "name": "stdout",
     "output_type": "stream",
     "text": [
      "torch.Size([28, 28])\n",
      "torch.Size([28, 28])\n",
      "torch.Size([28, 28])\n",
      "torch.Size([28, 28])\n",
      "torch.Size([28, 28])\n",
      "torch.Size([28, 28])\n"
     ]
    },
    {
     "data": {
      "image/png": "[encoded data removed]",
      "text/plain": [
       "<Figure size 432x288 with 6 Axes>"
      ]
     },
     "metadata": {
      "needs_background": "light"
     },
     "output_type": "display_data"
    }
   ],
   "source": [
    "import matplotlib.pyplot as plt\n",
    "\n",
    "fig = plt.figure()\n",
    "for i in range(6):\n",
    "  plt.subplot(2,3,i+1)\n",
    "  plt.tight_layout()\n",
    "  tmp = example_data[i][0]\n",
    "  print(tmp.shape)\n",
    "  plt.imshow(tmp, cmap='gray', interpolation='none')\n",
    "  plt.title(\"Ground Truth: {}\".format(example_targets[i]))\n",
    "#   plt.xticks([])\n",
    "#   plt.yticks([])"
   ]
  },
  {
   "cell_type": "markdown",
   "metadata": {},
   "source": [
    "## Building the Network"
   ]
  },
  {
   "cell_type": "code",
   "execution_count": 8,
   "metadata": {},
   "outputs": [],
   "source": [
    "import torch.nn as nn\n",
    "import torch.nn.functional as F\n",
    "import torch.optim as optim"
   ]
  },
  {
   "cell_type": "code",
   "execution_count": 9,
   "metadata": {},
   "outputs": [],
   "source": [
    "# LeNet5 (with kenel=5) for the reduced-size MNIST (28*28) from original size (32*32) in the paper\n",
    "class Net(nn.Module):\n",
    "    def __init__(self):\n",
    "        super(Net, self).__init__()\n",
    "        # 1 input image channel, 6 output channels, 3x3 convolution kernel\n",
    "        self.conv1 = nn.Conv2d(1, 6, 5)\n",
    "        self.conv2 = nn.Conv2d(6, 16, 5)\n",
    "        self.fc1 = nn.Linear(16 * 4 * 4, 120)  # 4*4 from image dimension after conv2d\n",
    "        self.fc2 = nn.Linear(120, 84)\n",
    "        self.fc3 = nn.Linear(84, 10)\n",
    "\n",
    "    def forward(self, x):\n",
    "        # Max pooling over a (2, 2) window\n",
    "        x = F.max_pool2d(F.relu(self.conv1(x)), (2, 2))\n",
    "        # If the size is a square you can specify a single number\n",
    "        x = F.max_pool2d(F.relu(self.conv2(x)), 2)\n",
    "        x = x.view(-1, self.num_flat_features(x)) # flaten\n",
    "        x = F.relu(self.fc1(x))\n",
    "        x = F.relu(self.fc2(x))\n",
    "        x = self.fc3(x)\n",
    "        x = F.log_softmax(x, dim=1) # added this line because using F.nll_loss to optimize\n",
    "        return x\n",
    "\n",
    "    def num_flat_features(self, x):\n",
    "        size = x.size()[1:] #all dimensions except the batch dimension\n",
    "        num_features = 1\n",
    "        for s in size:\n",
    "            num_features *= s\n",
    "        return num_features\n",
    "\n",
    "\n",
    "# A larger network than LeNet5, one example of pytorch, \n",
    "# class Net(nn.Module):\n",
    "#     def __init__(self):\n",
    "#         super(Net, self).__init__()\n",
    "#         self.conv1 = nn.Conv2d(1, 32, 3) #(in_channels, out_channels, kernel_size, stride=1)\n",
    "#         self.conv2 = nn.Conv2d(32, 64, 3)\n",
    "#         self.dropout1 = nn.Dropout(0.25)\n",
    "#         self.dropout2 = nn.Dropout(0.5)\n",
    "#         self.fc1 = nn.Linear(9216, 128)\n",
    "#         self.fc2 = nn.Linear(128, 10)\n",
    "\n",
    "#     def forward(self, x):\n",
    "#         x = F.relu(self.conv1(x))\n",
    "#         x = F.relu(self.conv2(x))\n",
    "#         x = F.max_pool2d(x, 2) # If the size is a square you can specify a single number\n",
    "#         x = self.dropout1(x)\n",
    "#         x = torch.flatten(x, 1)\n",
    "#         x = self.fc1(x)\n",
    "#         x = F.relu(x)\n",
    "#         x = self.dropout2(x)\n",
    "#         x = self.fc2(x)\n",
    "#         output = F.log_softmax(x, dim=1)\n",
    "#         return output"
   ]
  },
  {
   "cell_type": "code",
   "execution_count": 10,
   "metadata": {},
   "outputs": [
    {
     "name": "stdout",
     "output_type": "stream",
     "text": [
      "Net(\n",
      "  (conv1): Conv2d(1, 6, kernel_size=(5, 5), stride=(1, 1))\n",
      "  (conv2): Conv2d(6, 16, kernel_size=(5, 5), stride=(1, 1))\n",
      "  (fc1): Linear(in_features=256, out_features=120, bias=True)\n",
      "  (fc2): Linear(in_features=120, out_features=84, bias=True)\n",
      "  (fc3): Linear(in_features=84, out_features=10, bias=True)\n",
      ")\n"
     ]
    }
   ],
   "source": [
    "network = Net().to(device)\n",
    "print(network)"
   ]
  },
  {
   "cell_type": "code",
   "execution_count": 11,
   "metadata": {},
   "outputs": [],
   "source": [
    "optimizer = optim.SGD(network.parameters(), lr= 0.01,\n",
    "                      momentum= 0.5)\n",
    "\n",
    "# optimizer = optim.Adam(network.parameters(), lr=0.0001)\n",
    "\n",
    "# criterion = nn.CrossEntropyLoss() # not work here!\n",
    "criterion = F.nll_loss\n"
   ]
  },
  {
   "cell_type": "code",
   "execution_count": 12,
   "metadata": {},
   "outputs": [
    {
     "name": "stdout",
     "output_type": "stream",
     "text": [
      "[0, 60000, 120000, 180000, 240000, 300000, 360000, 420000, 480000, 540000, 600000]\n"
     ]
    }
   ],
   "source": [
    "n_epochs = 10\n",
    "train_losses = []\n",
    "train_counter = []\n",
    "test_losses = []\n",
    "test_counter = [i*len(train_loader.dataset) for i in range(n_epochs + 1)]\n",
    "test_acc = []"
   ]
  },
  {
   "cell_type": "code",
   "execution_count": 13,
   "metadata": {},
   "outputs": [],
   "source": [
    "def train(epoch):\n",
    "    network.train() # switch to train mode\n",
    "    \n",
    "    for batch_idx, (data, target) in enumerate(train_loader):\n",
    "        data, target = data.to(device), target.to(device) # to GPU\n",
    "        # zero the parameter gradients\n",
    "        optimizer.zero_grad()\n",
    "        # forward + backward + optimize\n",
    "        output = network(data)\n",
    "        loss = criterion(output, target)\n",
    "        loss.backward()\n",
    "        optimizer.step()\n",
    "        \n",
    "        # print statistics\n",
    "        log_interval = 100\n",
    "        if batch_idx % log_interval == 0:\n",
    "          print('Train Epoch: {} [{}/{} ({:.0f}%)]\\tLoss: {:.6f}'.format(\n",
    "            epoch, batch_idx * len(data), len(train_loader.dataset),\n",
    "            100. * batch_idx / len(train_loader), loss.item()))\n",
    "        \n",
    "          train_losses.append(loss.item())\n",
    "            \n",
    "          train_counter.append(\n",
    "            (batch_idx*64) + ((epoch-1)*len(train_loader.dataset)))\n",
    "        \n",
    "          torch.save(network.state_dict(), './results/model.pth')\n",
    "          torch.save(optimizer.state_dict(), './results/optimizer.pth')"
   ]
  },
  {
   "cell_type": "code",
   "execution_count": 14,
   "metadata": {},
   "outputs": [],
   "source": [
    "def test():\n",
    "    network.eval() # switch to evaluate mode\n",
    "    \n",
    "    test_loss = 0; correct = 0; acc = 0\n",
    "    with torch.no_grad():\n",
    "        for data, target in test_loader:\n",
    "            data, target = data.to(device), target.to(device) # to GPU\n",
    "            \n",
    "            output = network(data)\n",
    "            test_loss += criterion(output, target, size_average=False).item()\n",
    "            pred = output.data.max(1, keepdim=True)[1]\n",
    "            correct += pred.eq(target.data.view_as(pred)).sum()\n",
    "        \n",
    "    test_loss /= len(test_loader.dataset)\n",
    "    acc = correct / len(test_loader.dataset)\n",
    "    \n",
    "    test_losses.append(test_loss)\n",
    "    test_acc.append(acc)\n",
    "    \n",
    "    print('\\nTest set: Avg. loss: {:.4f}, Accuracy: {}/{} ({:.1f}%)\\n'.format(\n",
    "    test_loss, correct, len(test_loader.dataset), 100. * acc))"
   ]
  },
  {
   "cell_type": "code",
   "execution_count": 15,
   "metadata": {},
   "outputs": [
    {
     "name": "stderr",
     "output_type": "stream",
     "text": [
      "C:\\Users\\lwang\\anaconda3\\envs\\py38_torch\\lib\\site-packages\\torch\\nn\\_reduction.py:44: UserWarning: size_average and reduce args will be deprecated, please use reduction='sum' instead.\n",
      "  warnings.warn(warning.format(ret))\n"
     ]
    },
    {
     "name": "stdout",
     "output_type": "stream",
     "text": [
      "\n",
      "Test set: Avg. loss: 2.3063, Accuracy: 1032/10000 (10.3%)\n",
      "\n",
      "Train Epoch: 1 [0/60000 (0%)]\tLoss: 2.306174\n",
      "Train Epoch: 1 [6400/60000 (11%)]\tLoss: 2.271518\n",
      "Train Epoch: 1 [12800/60000 (21%)]\tLoss: 1.962079\n",
      "Train Epoch: 1 [19200/60000 (32%)]\tLoss: 0.571231\n",
      "Train Epoch: 1 [25600/60000 (43%)]\tLoss: 0.399245\n",
      "Train Epoch: 1 [32000/60000 (53%)]\tLoss: 0.314328\n",
      "Train Epoch: 1 [38400/60000 (64%)]\tLoss: 0.259065\n",
      "Train Epoch: 1 [44800/60000 (75%)]\tLoss: 0.172330\n",
      "Train Epoch: 1 [51200/60000 (85%)]\tLoss: 0.167928\n",
      "Train Epoch: 1 [57600/60000 (96%)]\tLoss: 0.188303\n",
      "\n",
      "Test set: Avg. loss: 0.1811, Accuracy: 9461/10000 (94.6%)\n",
      "\n",
      "Train Epoch: 2 [0/60000 (0%)]\tLoss: 0.142701\n",
      "Train Epoch: 2 [6400/60000 (11%)]\tLoss: 0.138010\n",
      "Train Epoch: 2 [12800/60000 (21%)]\tLoss: 0.118921\n",
      "Train Epoch: 2 [19200/60000 (32%)]\tLoss: 0.055840\n",
      "Train Epoch: 2 [25600/60000 (43%)]\tLoss: 0.071672\n",
      "Train Epoch: 2 [32000/60000 (53%)]\tLoss: 0.030583\n",
      "Train Epoch: 2 [38400/60000 (64%)]\tLoss: 0.042191\n",
      "Train Epoch: 2 [44800/60000 (75%)]\tLoss: 0.100344\n",
      "Train Epoch: 2 [51200/60000 (85%)]\tLoss: 0.192654\n",
      "Train Epoch: 2 [57600/60000 (96%)]\tLoss: 0.111042\n",
      "\n",
      "Test set: Avg. loss: 0.1046, Accuracy: 9663/10000 (96.6%)\n",
      "\n",
      "Train Epoch: 3 [0/60000 (0%)]\tLoss: 0.040610\n",
      "Train Epoch: 3 [6400/60000 (11%)]\tLoss: 0.127011\n",
      "Train Epoch: 3 [12800/60000 (21%)]\tLoss: 0.038172\n",
      "Train Epoch: 3 [19200/60000 (32%)]\tLoss: 0.207279\n",
      "Train Epoch: 3 [25600/60000 (43%)]\tLoss: 0.008990\n",
      "Train Epoch: 3 [32000/60000 (53%)]\tLoss: 0.083345\n",
      "Train Epoch: 3 [38400/60000 (64%)]\tLoss: 0.125631\n",
      "Train Epoch: 3 [44800/60000 (75%)]\tLoss: 0.039859\n",
      "Train Epoch: 3 [51200/60000 (85%)]\tLoss: 0.091654\n",
      "Train Epoch: 3 [57600/60000 (96%)]\tLoss: 0.055617\n",
      "\n",
      "Test set: Avg. loss: 0.0625, Accuracy: 9796/10000 (98.0%)\n",
      "\n",
      "Train Epoch: 4 [0/60000 (0%)]\tLoss: 0.078227\n",
      "Train Epoch: 4 [6400/60000 (11%)]\tLoss: 0.108320\n",
      "Train Epoch: 4 [12800/60000 (21%)]\tLoss: 0.202931\n",
      "Train Epoch: 4 [19200/60000 (32%)]\tLoss: 0.035230\n",
      "Train Epoch: 4 [25600/60000 (43%)]\tLoss: 0.116759\n",
      "Train Epoch: 4 [32000/60000 (53%)]\tLoss: 0.218578\n",
      "Train Epoch: 4 [38400/60000 (64%)]\tLoss: 0.140488\n",
      "Train Epoch: 4 [44800/60000 (75%)]\tLoss: 0.127077\n",
      "Train Epoch: 4 [51200/60000 (85%)]\tLoss: 0.117483\n",
      "Train Epoch: 4 [57600/60000 (96%)]\tLoss: 0.073367\n",
      "\n",
      "Test set: Avg. loss: 0.0553, Accuracy: 9811/10000 (98.1%)\n",
      "\n",
      "Train Epoch: 5 [0/60000 (0%)]\tLoss: 0.032588\n",
      "Train Epoch: 5 [6400/60000 (11%)]\tLoss: 0.012479\n",
      "Train Epoch: 5 [12800/60000 (21%)]\tLoss: 0.062570\n",
      "Train Epoch: 5 [19200/60000 (32%)]\tLoss: 0.012160\n",
      "Train Epoch: 5 [25600/60000 (43%)]\tLoss: 0.134808\n",
      "Train Epoch: 5 [32000/60000 (53%)]\tLoss: 0.026317\n",
      "Train Epoch: 5 [38400/60000 (64%)]\tLoss: 0.194131\n",
      "Train Epoch: 5 [44800/60000 (75%)]\tLoss: 0.045054\n",
      "Train Epoch: 5 [51200/60000 (85%)]\tLoss: 0.095200\n",
      "Train Epoch: 5 [57600/60000 (96%)]\tLoss: 0.068653\n",
      "\n",
      "Test set: Avg. loss: 0.0545, Accuracy: 9816/10000 (98.2%)\n",
      "\n",
      "Train Epoch: 6 [0/60000 (0%)]\tLoss: 0.130274\n",
      "Train Epoch: 6 [6400/60000 (11%)]\tLoss: 0.024206\n",
      "Train Epoch: 6 [12800/60000 (21%)]\tLoss: 0.110735\n",
      "Train Epoch: 6 [19200/60000 (32%)]\tLoss: 0.038217\n",
      "Train Epoch: 6 [25600/60000 (43%)]\tLoss: 0.025339\n",
      "Train Epoch: 6 [32000/60000 (53%)]\tLoss: 0.009351\n",
      "Train Epoch: 6 [38400/60000 (64%)]\tLoss: 0.056500\n",
      "Train Epoch: 6 [44800/60000 (75%)]\tLoss: 0.014489\n",
      "Train Epoch: 6 [51200/60000 (85%)]\tLoss: 0.018357\n",
      "Train Epoch: 6 [57600/60000 (96%)]\tLoss: 0.180229\n",
      "\n",
      "Test set: Avg. loss: 0.0445, Accuracy: 9850/10000 (98.5%)\n",
      "\n",
      "Train Epoch: 7 [0/60000 (0%)]\tLoss: 0.054301\n",
      "Train Epoch: 7 [6400/60000 (11%)]\tLoss: 0.006686\n",
      "Train Epoch: 7 [12800/60000 (21%)]\tLoss: 0.028716\n",
      "Train Epoch: 7 [19200/60000 (32%)]\tLoss: 0.009098\n",
      "Train Epoch: 7 [25600/60000 (43%)]\tLoss: 0.008562\n",
      "Train Epoch: 7 [32000/60000 (53%)]\tLoss: 0.008545\n",
      "Train Epoch: 7 [38400/60000 (64%)]\tLoss: 0.026130\n",
      "Train Epoch: 7 [44800/60000 (75%)]\tLoss: 0.032345\n",
      "Train Epoch: 7 [51200/60000 (85%)]\tLoss: 0.141906\n",
      "Train Epoch: 7 [57600/60000 (96%)]\tLoss: 0.055021\n",
      "\n",
      "Test set: Avg. loss: 0.0507, Accuracy: 9844/10000 (98.4%)\n",
      "\n",
      "Train Epoch: 8 [0/60000 (0%)]\tLoss: 0.041208\n",
      "Train Epoch: 8 [6400/60000 (11%)]\tLoss: 0.017920\n",
      "Train Epoch: 8 [12800/60000 (21%)]\tLoss: 0.007087\n",
      "Train Epoch: 8 [19200/60000 (32%)]\tLoss: 0.070599\n",
      "Train Epoch: 8 [25600/60000 (43%)]\tLoss: 0.007682\n",
      "Train Epoch: 8 [32000/60000 (53%)]\tLoss: 0.103871\n",
      "Train Epoch: 8 [38400/60000 (64%)]\tLoss: 0.015435\n",
      "Train Epoch: 8 [44800/60000 (75%)]\tLoss: 0.015364\n",
      "Train Epoch: 8 [51200/60000 (85%)]\tLoss: 0.017309\n",
      "Train Epoch: 8 [57600/60000 (96%)]\tLoss: 0.072016\n",
      "\n",
      "Test set: Avg. loss: 0.0384, Accuracy: 9873/10000 (98.7%)\n",
      "\n",
      "Train Epoch: 9 [0/60000 (0%)]\tLoss: 0.003241\n",
      "Train Epoch: 9 [6400/60000 (11%)]\tLoss: 0.015712\n",
      "Train Epoch: 9 [12800/60000 (21%)]\tLoss: 0.008301\n",
      "Train Epoch: 9 [19200/60000 (32%)]\tLoss: 0.001473\n",
      "Train Epoch: 9 [25600/60000 (43%)]\tLoss: 0.021141\n",
      "Train Epoch: 9 [32000/60000 (53%)]\tLoss: 0.105721\n",
      "Train Epoch: 9 [38400/60000 (64%)]\tLoss: 0.115233\n",
      "Train Epoch: 9 [44800/60000 (75%)]\tLoss: 0.055612\n",
      "Train Epoch: 9 [51200/60000 (85%)]\tLoss: 0.010564\n",
      "Train Epoch: 9 [57600/60000 (96%)]\tLoss: 0.014664\n",
      "\n",
      "Test set: Avg. loss: 0.0350, Accuracy: 9885/10000 (98.8%)\n",
      "\n",
      "Train Epoch: 10 [0/60000 (0%)]\tLoss: 0.037307\n",
      "Train Epoch: 10 [6400/60000 (11%)]\tLoss: 0.005466\n",
      "Train Epoch: 10 [12800/60000 (21%)]\tLoss: 0.043472\n",
      "Train Epoch: 10 [19200/60000 (32%)]\tLoss: 0.004357\n",
      "Train Epoch: 10 [25600/60000 (43%)]\tLoss: 0.007960\n",
      "Train Epoch: 10 [32000/60000 (53%)]\tLoss: 0.004570\n",
      "Train Epoch: 10 [38400/60000 (64%)]\tLoss: 0.014254\n",
      "Train Epoch: 10 [44800/60000 (75%)]\tLoss: 0.081582\n",
      "Train Epoch: 10 [51200/60000 (85%)]\tLoss: 0.002198\n",
      "Train Epoch: 10 [57600/60000 (96%)]\tLoss: 0.010624\n",
      "\n",
      "Test set: Avg. loss: 0.0331, Accuracy: 9893/10000 (98.9%)\n",
      "\n",
      "elapsed_time: 92.71692991256714\n"
     ]
    }
   ],
   "source": [
    "import time\n",
    "start_time = time.time()\n",
    "\n",
    "test()\n",
    "for epoch in range(1, n_epochs + 1):\n",
    "    train(epoch)\n",
    "    test()\n",
    "    \n",
    "print('elapsed_time:',  time.time() - start_time) # 50s for 3 epochs on CPU"
   ]
  },
  {
   "cell_type": "code",
   "execution_count": 16,
   "metadata": {},
   "outputs": [
    {
     "data": {
      "text/plain": [
       "Text(0, 0.5, 'negative log likelihood loss')"
      ]
     },
     "execution_count": 16,
     "metadata": {},
     "output_type": "execute_result"
    },
    {
     "data": {
      "image/png": "[encoded data removed]",
      "text/plain": [
       "<Figure size 432x288 with 1 Axes>"
      ]
     },
     "metadata": {
      "needs_background": "light"
     },
     "output_type": "display_data"
    }
   ],
   "source": [
    "fig = plt.figure()\n",
    "plt.plot(train_counter, train_losses, color='blue')\n",
    "plt.scatter(test_counter, test_losses, color='red') \n",
    "plt.grid()\n",
    "plt.legend(['Train Loss', 'Test Loss'], loc='upper right')\n",
    "plt.xlabel('number of training examples seen')\n",
    "plt.ylabel('negative log likelihood loss')\n"
   ]
  },
  {
   "cell_type": "code",
   "execution_count": 17,
   "metadata": {},
   "outputs": [
    {
     "name": "stdout",
     "output_type": "stream",
     "text": [
      "[tensor(0.8968, device='cuda:0') tensor(0.0539, device='cuda:0')\n",
      " tensor(0.0337, device='cuda:0') tensor(0.0204, device='cuda:0')\n",
      " tensor(0.0189, device='cuda:0') tensor(0.0184, device='cuda:0')\n",
      " tensor(0.0150, device='cuda:0') tensor(0.0156, device='cuda:0')\n",
      " tensor(0.0127, device='cuda:0') tensor(0.0115, device='cuda:0')\n",
      " tensor(0.0107, device='cuda:0')]\n"
     ]
    },
    {
     "data": {
      "text/plain": [
       "Text(0, 0.5, 'Test error rate')"
      ]
     },
     "execution_count": 17,
     "metadata": {},
     "output_type": "execute_result"
    },
    {
     "data": {
      "image/png": "[encoded data removed]",
      "text/plain": [
       "<Figure size 432x288 with 1 Axes>"
      ]
     },
     "metadata": {
      "needs_background": "light"
     },
     "output_type": "display_data"
    }
   ],
   "source": [
    "import numpy as np\n",
    "error = 1-np.array(test_acc)\n",
    "print(error)\n",
    "\n",
    "fig = plt.figure()\n",
    "plt.plot(error, 'o-', markersize=10, label='error rate') #linewidth=1 \n",
    "plt.grid()\n",
    "plt.xlabel('epoches')\n",
    "plt.ylabel('Test error rate')"
   ]
  },
  {
   "cell_type": "code",
   "execution_count": null,
   "metadata": {},
   "outputs": [],
   "source": []
  }
 ],
 "metadata": {
  "kernelspec": {
   "display_name": "Python 3",
   "language": "python",
   "name": "python3"
  },
  "language_info": {
   "codemirror_mode": {
    "name": "ipython",
    "version": 3
   },
   "file_extension": ".py",
   "mimetype": "text/x-python",
   "name": "python",
   "nbconvert_exporter": "python",
   "pygments_lexer": "ipython3",
   "version": "3.8.5"
  }
 },
 "nbformat": 4,
 "nbformat_minor": 4
}
